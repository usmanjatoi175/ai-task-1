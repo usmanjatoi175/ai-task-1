import pandas as pd
from sklearn.model_selection import train_test_split
from sklearn.linear_model import LinearRegression
from sklearn.metrics import mean_squared_error, r2_score

# Sample dataset
data = {
    'Study Hours': [4, 6, 5, 7, 3, 8, 9, 5, 4, 6],
    'GPA': [3.5, 3.2, 3.8, 3.0, 2.5, 3.9, 3.7, 3.4, 2.8, 3.1]
}

df = pd.DataFrame(data)

# Split data into training and testing sets
X = df[['Study Hours']]
y = df['GPA']
X_train, X_test, y_train, y_test = train_test_split(X, y, test_size=0.2, random_state=42)

# Train Linear Regression model
model = LinearRegression()
model.fit(X_train, y_train)

# Make predictions
y_pred = model.predict(X_test)

# Evaluate model
mse = mean_squared_error(y_test, y_pred)
r2 = r2_score(y_test, y_pred)
print(f'MSE: {mse:.2f}, R² score: {r2:.2f}')